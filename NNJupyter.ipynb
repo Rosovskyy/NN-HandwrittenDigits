{
 "cells": [
  {
   "cell_type": "code",
   "execution_count": 17,
   "metadata": {},
   "outputs": [],
   "source": [
    "import import_ipynb\n",
    "from mnist.loader import MNIST\n",
    "import numpy as np\n",
    "import sys\n",
    "import matplotlib.pyplot as plt"
   ]
  },
  {
   "cell_type": "code",
   "execution_count": 18,
   "metadata": {},
   "outputs": [],
   "source": [
    "import torch\n",
    "import cv2\n",
    "from PIL import Image"
   ]
  },
  {
   "cell_type": "code",
   "execution_count": 19,
   "metadata": {},
   "outputs": [],
   "source": [
    "class Functional:\n",
    "    @staticmethod\n",
    "    def sigmoid(x, grad=False):\n",
    "        if grad:\n",
    "            return x * (1 - x)\n",
    "        return 1 / (1 + np.exp(-x))\n",
    "\n",
    "    @staticmethod\n",
    "    def softmax(x):\n",
    "        return np.exp(x) / np.sum(np.exp(x), axis=0)\n",
    "\n",
    "    @staticmethod\n",
    "    def convertImage(path):\n",
    "        img = Image.open(path)\n",
    "        img = img.resize((28, 28), Image.ANTIALIAS)\n",
    "        img.save(path)\n",
    "        im_gray = cv2.imread(path, cv2.IMREAD_GRAYSCALE)\n",
    "        npa = abs(np.asarray(im_gray, dtype=np.float32) - 255)\n",
    "        npa = torch.from_numpy(npa)\n",
    "        plt.imshow(npa, cmap=\"gray\")\n",
    "        return npa.view(1, 784).numpy().tolist()[0]"
   ]
  },
  {
   "cell_type": "code",
   "execution_count": 20,
   "metadata": {},
   "outputs": [],
   "source": [
    "class Network:\n",
    "    def __init__(self, epochs):\n",
    "        self.epochs = epochs\n",
    "        self.images, self.labels = MNIST('./').load_training()\n",
    "        self.weightsFirst = np.random.uniform(-1.0, 1.0, (len(self.images[0]), 128))\n",
    "        self.weightsSecond = np.random.uniform(-1.0, 1.0, (128, 10))\n",
    "\n",
    "    def forward(self, image, label):\n",
    "\n",
    "        secondLayer = Functional.sigmoid(np.dot(image, self.weightsFirst))\n",
    "        thirdLayer = Functional.sigmoid(np.dot(secondLayer, self.weightsSecond))\n",
    "\n",
    "        last = np.zeros((1, 10))\n",
    "        last[0][label] = 1.0\n",
    "        self.backpropagation(last, secondLayer, thirdLayer, image)\n",
    "\n",
    "    def backpropagation(self, last, secondLayer, thirdLayer, image):\n",
    "        backFirst = (last - thirdLayer) * Functional.sigmoid(thirdLayer, True)\n",
    "        backSecond = backFirst.dot(np.transpose(self.weightsSecond)) * Functional.sigmoid(secondLayer, True)\n",
    "\n",
    "        self.weightsSecond += np.dot(np.transpose(secondLayer), backFirst)\n",
    "        self.weightsFirst += np.dot(np.transpose(image), backSecond)\n",
    "\n",
    "    def train(self):\n",
    "        for e in range(self.epochs):\n",
    "            print(\"Epoch {}\".format(e))\n",
    "            for i in range(len(self.images)):\n",
    "                image = np.resize(self.images[i], (1, len(self.images[i]))) / 255\n",
    "                self.forward(image, self.labels[i])\n",
    "        print(\"Done\")\n",
    "\n",
    "    def testRandomImage(self):\n",
    "        el = np.random.randint(0, len(self.images) - 1)\n",
    "        self.predict(self.images[el])\n",
    "        plt.imshow(np.reshape(self.images[el], (28, 28)), cmap=\"gray\")\n",
    "\n",
    "    def predict(self, image):\n",
    "        if len(image) != 784:\n",
    "            image = Functional.convertImage(image)\n",
    "        image = np.resize(image, (1, len(image))) / 255\n",
    "        mid = Functional.sigmoid(np.dot(image, self.weightsFirst))\n",
    "        end = Functional.sigmoid(np.dot(mid, self.weightsSecond))\n",
    "\n",
    "        ind = np.argmax(end)\n",
    "        print(\"HMM.. I think it's -\", ind)\n",
    "\n",
    "    def loss(self):\n",
    "        number = 0\n",
    "        images, labels = MNIST('./').load_testing()\n",
    "        for i in range(len(images)):\n",
    "            image = np.resize(images[i], (1, len(images[i]))) / 255\n",
    "            mid = Functional.sigmoid(np.dot(image, self.weightsFirst))\n",
    "            end = Functional.sigmoid(np.dot(mid, self.weightsSecond))\n",
    "\n",
    "            ind = np.argmax(end)\n",
    "            if ind == labels[i]:\n",
    "                number += 1\n",
    "        print('\\n')\n",
    "\n",
    "        print(\"% of how it is accurate : \", (number / len(images)) * 100)"
   ]
  },
  {
   "cell_type": "code",
   "execution_count": 21,
   "metadata": {},
   "outputs": [],
   "source": [
    "network = Network(1)"
   ]
  },
  {
   "cell_type": "code",
   "execution_count": 22,
   "metadata": {},
   "outputs": [
    {
     "name": "stdout",
     "output_type": "stream",
     "text": [
      "Epoch 0\n",
      "Done\n"
     ]
    }
   ],
   "source": [
    "network.train()"
   ]
  },
  {
   "cell_type": "code",
   "execution_count": 23,
   "metadata": {},
   "outputs": [
    {
     "name": "stdout",
     "output_type": "stream",
     "text": [
      "\n",
      "\n",
      "% of how it is accurate :  92.43\n"
     ]
    }
   ],
   "source": [
    "network.loss()"
   ]
  },
  {
   "cell_type": "code",
   "execution_count": 24,
   "metadata": {},
   "outputs": [
    {
     "name": "stdout",
     "output_type": "stream",
     "text": [
      "HMM.. I think it's - 5\n"
     ]
    },
    {
     "data": {
      "image/png": "[encoded data removed]",
      "text/plain": [
       "<Figure size 432x288 with 1 Axes>"
      ]
     },
     "metadata": {},
     "output_type": "display_data"
    }
   ],
   "source": [
    "network.predict(\"images/six.png\")"
   ]
  },
  {
   "cell_type": "code",
   "execution_count": 25,
   "metadata": {},
   "outputs": [
    {
     "name": "stdout",
     "output_type": "stream",
     "text": [
      "HMM.. I think it's - 3\n"
     ]
    },
    {
     "data": {
      "image/png": "[encoded data removed]",
      "text/plain": [
       "<Figure size 432x288 with 1 Axes>"
      ]
     },
     "metadata": {},
     "output_type": "display_data"
    }
   ],
   "source": [
    "network.testRandomImage()"
   ]
  },
  {
   "cell_type": "code",
   "execution_count": null,
   "metadata": {},
   "outputs": [],
   "source": []
  }
 ],
 "metadata": {
  "kernelspec": {
   "display_name": "Python 3",
   "language": "python",
   "name": "python3"
  },
  "language_info": {
   "codemirror_mode": {
    "name": "ipython",
    "version": 3
   },
   "file_extension": ".py",
   "mimetype": "text/x-python",
   "name": "python",
   "nbconvert_exporter": "python",
   "pygments_lexer": "ipython3",
   "version": "3.6.8"
  }
 },
 "nbformat": 4,
 "nbformat_minor": 2
}
